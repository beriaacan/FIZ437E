{
  "nbformat": 4,
  "nbformat_minor": 0,
  "metadata": {
    "colab": {
      "provenance": [],
      "collapsed_sections": [],
      "authorship_tag": "ABX9TyMyEfO7p9VrGfvx8V8uEX9u",
      "include_colab_link": true
    },
    "kernelspec": {
      "name": "python3",
      "display_name": "Python 3"
    },
    "language_info": {
      "name": "python"
    }
  },
  "cells": [
    {
      "cell_type": "markdown",
      "metadata": {
        "id": "view-in-github",
        "colab_type": "text"
      },
      "source": [
        "<a href=\"https://colab.research.google.com/github/beriaacan/FIZ437E/blob/main/overfit(bessel).ipynb\" target=\"_parent\"><img src=\"https://colab.research.google.com/assets/colab-badge.svg\" alt=\"Open In Colab\"/></a>"
      ]
    },
    {
      "cell_type": "code",
      "execution_count": 6,
      "metadata": {
        "id": "oPukIZnec__u"
      },
      "outputs": [],
      "source": [
        "import numpy as np\n",
        "import matplotlib.pyplot as plt\n",
        "import scipy.special as spl \n",
        "from scipy.special import j0\n"
      ]
    },
    {
      "cell_type": "code",
      "source": [
        "x = np.linspace(0,8,1000)\n",
        "y = spl.jv(0,x)\n",
        "plt.plot(x, y, '-')\n",
        "plt.show()"
      ],
      "metadata": {
        "colab": {
          "base_uri": "https://localhost:8080/",
          "height": 265
        },
        "id": "tkr9RzHOdbeS",
        "outputId": "443fb73e-7f31-46bd-f07e-8c33f3cf2221"
      },
      "execution_count": 2,
      "outputs": [
        {
          "output_type": "display_data",
          "data": {
            "text/plain": [
              "<Figure size 432x288 with 1 Axes>"
            ],
            "image/png": "[encoded data removed]"
          },
          "metadata": {
            "needs_background": "light"
          }
        }
      ]
    },
    {
      "cell_type": "code",
      "source": [
        "import random\n",
        "import seaborn as sns\n",
        "from sklearn.model_selection import train_test_split\n",
        "from sklearn.pipeline import make_pipeline\n",
        "from sklearn.preprocessing import PolynomialFeatures\n",
        "from sklearn.linear_model import Ridge\n",
        "import pandas as pd\n",
        "from sklearn.preprocessing import PolynomialFeatures\n",
        "from sklearn.linear_model import LinearRegression"
      ],
      "metadata": {
        "id": "eS13eLzrduQi"
      },
      "execution_count": 15,
      "outputs": []
    },
    {
      "cell_type": "code",
      "source": [
        "N=1000\n",
        "x=np.linspace(0,8,1000)\n",
        "J_0=spl.jv(0,x)\n",
        "# Creating noisy bessel func  with gaussian.\n",
        "def f(x):\n",
        "    gauss=np.random.normal(0,1,1000)\n",
        "    f=y+0.1*gauss\n",
        "    return f\n",
        "data=[]\n",
        "data=np.append(x,f(x))\n",
        "print(data.shape)\n",
        "#xf=data[:,0]\n",
        "#yf=data[:,1]\n",
        "np.random.shuffle(data)\n",
        "sample_size=[10,20,100,1000,10000]"
      ],
      "metadata": {
        "colab": {
          "base_uri": "https://localhost:8080/"
        },
        "id": "VE0kq-XLd2cr",
        "outputId": "b4e3b9af-2e0c-4dd3-a4d5-8ab86f97897d"
      },
      "execution_count": 23,
      "outputs": [
        {
          "output_type": "stream",
          "name": "stdout",
          "text": [
            "(2000,)\n"
          ]
        }
      ]
    }
  ]
}