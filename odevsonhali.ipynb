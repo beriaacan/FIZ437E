{
  "cells": [
    {
      "cell_type": "markdown",
      "metadata": {
        "id": "view-in-github",
        "colab_type": "text"
      },
      "source": [
        "<a href=\"https://colab.research.google.com/github/beriaacan/FIZ437E/blob/main/odevsonhali.ipynb\" target=\"_parent\"><img src=\"https://colab.research.google.com/assets/colab-badge.svg\" alt=\"Open In Colab\"/></a>"
      ]
    },
    {
      "cell_type": "code",
      "execution_count": null,
      "metadata": {
        "colab": {
          "base_uri": "https://localhost:8080/"
        },
        "id": "MNaAx9wAb2uV",
        "outputId": "7d7ffcc0-665c-45cd-d397-9643aa6df7cf"
      },
      "outputs": [
        {
          "output_type": "stream",
          "name": "stdout",
          "text": [
            "Drive already mounted at /content/drive; to attempt to forcibly remount, call drive.mount(\"/content/drive\", force_remount=True).\n"
          ]
        }
      ],
      "source": [
        "# This mounts your Google Drive to the Colab VM.\n",
        "from google.colab import drive\n",
        "drive.mount('/content/drive')"
      ]
    },
    {
      "cell_type": "code",
      "execution_count": null,
      "metadata": {
        "id": "Cpy01ZNrb94b"
      },
      "outputs": [],
      "source": [
        "FOLDERNAME ='hw1/'\n",
        "assert FOLDERNAME is not None, \"[!] Enter the foldername.\"\n",
        "\n",
        "# Now that we've mounted your Drive, this ensures that\n",
        "# the Python interpreter of the Colab VM can load\n",
        "# python files from within it.\n",
        "import sys\n",
        "sys.path.append('/content/drive/My Drive/{}'.format(FOLDERNAME))"
      ]
    },
    {
      "cell_type": "code",
      "execution_count": null,
      "metadata": {
        "id": "O2sF6rT8cVOy"
      },
      "outputs": [],
      "source": [
        "# Importing necessary libraries\n",
        "import cv2\n",
        "import glob\n",
        "from matplotlib import pyplot as plt\n",
        "from PIL import Image\n",
        "import PIL\n",
        "from numpy import asarray\n",
        "import numpy as np"
      ]
    },
    {
      "cell_type": "code",
      "execution_count": null,
      "metadata": {
        "id": "eegRrE_AjTPt"
      },
      "outputs": [],
      "source": [
        "from google.colab.patches import cv2_imshow"
      ]
    },
    {
      "cell_type": "code",
      "execution_count": null,
      "metadata": {
        "id": "hgUoF7nScX9Q"
      },
      "outputs": [],
      "source": [
        "#############################CAT PART##################################################    \n",
        "data=[]\n",
        "for name in glob.glob('drive/MyDrive/hw1/cat/*jpg'):\n",
        "    \n",
        "    img_cat = Image.open(name)\n",
        "    data_cat = np.array(img_cat)\n",
        "    image = cv2.imread(name)\n",
        "    gray = cv2.cvtColor(image, cv2.COLOR_BGR2GRAY)\n",
        "    #cv2_imshow(image)\n",
        "    #cv2_imshow(gray)\n",
        "    data_cat1d=data_cat.flatten()\n",
        "    #artik label atamasi yapiyorum\n",
        "    data_label_cat=np.append(data_cat1d,0)\n",
        "    #print(data_label_cat)\n",
        "    data.append(data_label_cat)\n",
        "\n",
        " "
      ]
    },
    {
      "cell_type": "code",
      "execution_count": null,
      "metadata": {
        "colab": {
          "base_uri": "https://localhost:8080/"
        },
        "id": "cWXWmedTmJAm",
        "outputId": "dd852a17-8c8b-45f9-c787-01186729d8e3"
      },
      "outputs": [
        {
          "output_type": "stream",
          "name": "stdout",
          "text": [
            "270000\n"
          ]
        }
      ],
      "source": [
        "print(data_cat1d.size) #sukurler olsun dustu tek boyuta"
      ]
    },
    {
      "cell_type": "code",
      "source": [
        "#############################RABBIT PART##################################################    \n",
        "for name in glob.glob('drive/MyDrive/hw1/rabbit/*jpg'):\n",
        "    img_rab = Image.open(name)\n",
        "    data_rab = np.array(img_rab)\n",
        "    image = cv2.imread(name)\n",
        "    gray = cv2.cvtColor(image, cv2.COLOR_BGR2GRAY)\n",
        "    #cv2_imshow(image)\n",
        "    #cv2_imshow(gray)\n",
        "    data_rab1d=data_rab.flatten()\n",
        "    #artik label atamasi yapiyorum\n",
        "    data_label_rab=np.append(data_rab1d,1)\n",
        "    #print(data_label_rab)\n",
        "    data.append(data_label_rab)\n",
        "\n",
        "    \n",
        "  "
      ],
      "metadata": {
        "id": "k5obyNc1qdaA"
      },
      "execution_count": null,
      "outputs": []
    },
    {
      "cell_type": "code",
      "source": [
        "#data=np.vstack((data_label_cat,data_label_rab))\n",
        "data=np.array(data)\n",
        "np.random.shuffle(data)\n",
        "\n",
        "cut_val=int(data.shape[0]*0.9)\n",
        "#print(cut_val)\n",
        "train_set=data[0:cut_val,:]\n",
        "test_set=data[0:-int(len(data)*0.1),:]\n",
        "print(test_set.shape)\n"
      ],
      "metadata": {
        "id": "n-WRGJmReTUR",
        "colab": {
          "base_uri": "https://localhost:8080/"
        },
        "outputId": "ec5397e6-29c8-4bd3-9d55-1e3428909e53"
      },
      "execution_count": null,
      "outputs": [
        {
          "output_type": "stream",
          "name": "stdout",
          "text": [
            "(1440, 270001)\n"
          ]
        }
      ]
    },
    {
      "cell_type": "code",
      "source": [
        "import scipy.spatial\n",
        "i=0\n",
        "for i in range(1,20,2):\n",
        "  i=i+1\n",
        "  n=0\n",
        "  for j in range(len(test_set[:100,:])):\n",
        "    pt=test_set[j,:]\n",
        "    #euclidean part\n",
        "    d="
      ],
      "metadata": {
        "id": "UOT88UTimD0B"
      },
      "execution_count": null,
      "outputs": []
    }
  ],
  "metadata": {
    "colab": {
      "provenance": [],
      "collapsed_sections": [],
      "authorship_tag": "ABX9TyMlaSqWdOq6BL7ILXIoq2l1",
      "include_colab_link": true
    },
    "kernelspec": {
      "display_name": "Python 3",
      "name": "python3"
    },
    "language_info": {
      "name": "python"
    }
  },
  "nbformat": 4,
  "nbformat_minor": 0
}