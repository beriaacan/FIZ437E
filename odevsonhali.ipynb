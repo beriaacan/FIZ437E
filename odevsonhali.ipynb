{
  "cells": [
    {
      "cell_type": "markdown",
      "metadata": {
        "id": "view-in-github",
        "colab_type": "text"
      },
      "source": [
        "<a href=\"https://colab.research.google.com/github/beriaacan/FIZ437E/blob/main/odevsonhali.ipynb\" target=\"_parent\"><img src=\"https://colab.research.google.com/assets/colab-badge.svg\" alt=\"Open In Colab\"/></a>"
      ]
    },
    {
      "cell_type": "code",
      "execution_count": 23,
      "metadata": {
        "colab": {
          "base_uri": "https://localhost:8080/"
        },
        "id": "MNaAx9wAb2uV",
        "outputId": "cb527b60-37df-4125-c229-17b3c449f20e"
      },
      "outputs": [
        {
          "output_type": "stream",
          "name": "stdout",
          "text": [
            "Drive already mounted at /content/drive; to attempt to forcibly remount, call drive.mount(\"/content/drive\", force_remount=True).\n"
          ]
        }
      ],
      "source": [
        "# This mounts your Google Drive to the Colab VM.\n",
        "from google.colab import drive\n",
        "drive.mount('/content/drive')"
      ]
    },
    {
      "cell_type": "code",
      "execution_count": 24,
      "metadata": {
        "id": "Cpy01ZNrb94b"
      },
      "outputs": [],
      "source": [
        "FOLDERNAME ='hw1/'\n",
        "assert FOLDERNAME is not None, \"[!] Enter the foldername.\"\n",
        "\n",
        "# Now that we've mounted your Drive, this ensures that\n",
        "# the Python interpreter of the Colab VM can load\n",
        "# python files from within it.\n",
        "import sys\n",
        "sys.path.append('/content/drive/My Drive/{}'.format(FOLDERNAME))"
      ]
    },
    {
      "cell_type": "code",
      "execution_count": 25,
      "metadata": {
        "id": "O2sF6rT8cVOy"
      },
      "outputs": [],
      "source": [
        "# Importing necessary libraries\n",
        "import cv2\n",
        "import glob\n",
        "from matplotlib import pyplot as plt\n",
        "from PIL import Image\n",
        "import PIL\n",
        "from numpy import asarray\n",
        "import numpy as np"
      ]
    },
    {
      "cell_type": "code",
      "execution_count": 26,
      "metadata": {
        "id": "eegRrE_AjTPt"
      },
      "outputs": [],
      "source": [
        "from google.colab.patches import cv2_imshow"
      ]
    },
    {
      "cell_type": "code",
      "execution_count": 27,
      "metadata": {
        "id": "hgUoF7nScX9Q"
      },
      "outputs": [],
      "source": [
        "#############################CAT PART##################################################    \n",
        "data=[]\n",
        "for name in glob.glob('drive/MyDrive/hw1/cat/*jpg'):\n",
        "    \n",
        "    img_cat = Image.open(name)\n",
        "    data_cat = np.array(img_cat)\n",
        "    image = cv2.imread(name)\n",
        "    gray = cv2.cvtColor(image, cv2.COLOR_BGR2GRAY)\n",
        "    #cv2_imshow(image)\n",
        "    #cv2_imshow(gray)\n",
        "\n",
        "    data_cat1d=gray.flatten()\n",
        "    #artik label atamasi yapiyorum\n",
        "    data_label_cat=np.append(data_cat1d,0)\n",
        "    #print(data_label_cat)\n",
        "    data.append(data_label_cat)\n",
        "\n",
        " "
      ]
    },
    {
      "cell_type": "code",
      "execution_count": 28,
      "metadata": {
        "colab": {
          "base_uri": "https://localhost:8080/"
        },
        "id": "cWXWmedTmJAm",
        "outputId": "20f9b605-eda2-43e6-a64c-cb140fb1911d"
      },
      "outputs": [
        {
          "output_type": "stream",
          "name": "stdout",
          "text": [
            "(300, 300)\n"
          ]
        }
      ],
      "source": [
        "print(gray.shape)"
      ]
    },
    {
      "cell_type": "code",
      "source": [],
      "metadata": {
        "id": "OUrVJNxVQUG9"
      },
      "execution_count": 28,
      "outputs": []
    },
    {
      "cell_type": "code",
      "source": [
        "#############################RABBIT PART##################################################    \n",
        "for name in glob.glob('drive/MyDrive/hw1/rabbit/*jpg'):\n",
        "    img_rab = Image.open(name)\n",
        "    data_rab = np.array(img_rab)\n",
        "    image = cv2.imread(name)\n",
        "    gray = cv2.cvtColor(image, cv2.COLOR_BGR2GRAY)\n",
        "    #cv2_imshow(image)\n",
        "    #cv2_imshow(gray)\n",
        "    data_rab1d=gray.flatten()\n",
        "    #artik label atamasi yapiyorum\n",
        "    data_label_rab=np.append(data_rab1d,1)\n",
        "    #print(data_label_rab)\n",
        "    data.append(data_label_rab)\n",
        "\n",
        "    \n",
        "  "
      ],
      "metadata": {
        "id": "k5obyNc1qdaA"
      },
      "execution_count": 29,
      "outputs": []
    },
    {
      "cell_type": "code",
      "source": [
        "data=np.array(data)\n",
        "np.random.shuffle(data)\n",
        "\n",
        "cut_val=int(data.shape[0]*0.9) #9a 1oranında ayirdim\n",
        "#print(cut_val2)\n",
        "train_set=data[0:cut_val,:]#9/10\n",
        "test_set=data[cut_val:1600,:]#1/10\n",
        "print(train_set.shape)\n",
        "print(test_set.shape)"
      ],
      "metadata": {
        "id": "n-WRGJmReTUR",
        "colab": {
          "base_uri": "https://localhost:8080/"
        },
        "outputId": "f32eb059-347d-41ee-c46d-c134a1815efa"
      },
      "execution_count": 30,
      "outputs": [
        {
          "output_type": "stream",
          "name": "stdout",
          "text": [
            "(1440, 90001)\n",
            "(160, 90001)\n"
          ]
        }
      ]
    },
    {
      "cell_type": "code",
      "source": [
        "\"\"\"my knn algorithms:\n",
        "for each x in testing data do\n",
        "      for each D_i in training data do\n",
        "      calculate distance between X and D_i adn Store in List[x]\n",
        "      end for\n",
        "      sort list[x] and find k smallest distances\n",
        "      determine class of x from k possibilities\n",
        "    end for \"\"\"\n",
        "      "
      ],
      "metadata": {
        "id": "nuHXMw_gqkam",
        "colab": {
          "base_uri": "https://localhost:8080/",
          "height": 53
        },
        "outputId": "cf9beaa4-bde8-403d-d1c1-3cb16ecaed76"
      },
      "execution_count": 31,
      "outputs": [
        {
          "output_type": "execute_result",
          "data": {
            "text/plain": [
              "'my knn algorithms:\\nfor each x in testing data do\\n      for each D_i in training data do\\n      calculate distance between X and D_i adn Store in List[x]\\n      end for\\n      sort list[x] and find k smallest distances\\n      determine class of x from k possibilities\\n    end for '"
            ],
            "application/vnd.google.colaboratory.intrinsic+json": {
              "type": "string"
            }
          },
          "metadata": {},
          "execution_count": 31
        }
      ]
    },
    {
      "cell_type": "code",
      "source": [
        "#x1 and x2 my vector and which is x1=testing_set and \n",
        "#x2=training_set \n",
        "#def EuclideanDistance(x1,x2):\n",
        "  #distance=0\n",
        "  #for i in range(len(x1)):#i=dimension\n",
        "    #distance=distance+(x1[i]-x2[i])**2\n",
        "  #return np.sqrt(distance)\n",
        "\n",
        "#or we can use \n",
        "from scipy.spatial import distance"
      ],
      "metadata": {
        "id": "dhpcNlZrrO96"
      },
      "execution_count": 32,
      "outputs": []
    },
    {
      "cell_type": "code",
      "source": [
        "k=1\n",
        "predicted=[]\n",
        "#for k in range(1,38,2): #1440 kok aldim\n",
        "for i in test_set:\n",
        "  dist=[]\n",
        "  for j in train_set:\n",
        "      dist.append((distance.euclidean(i,j),j[-1]))\n",
        "  dist.sort(key=lambda tup: tup[0])\n",
        "  dist=np.array(dist)\n",
        "  k_part=dist[0:k,-1]\n",
        "  #print(k_part.sum())\n",
        "  if k_part.sum()>k/2:\n",
        "    predicted.append(1)\n",
        "  else:\n",
        "    predicted.append(0)\n"
      ],
      "metadata": {
        "id": "aICiWAAHQXnx"
      },
      "execution_count": 73,
      "outputs": []
    },
    {
      "cell_type": "code",
      "source": [
        "true_predicted=0\n",
        "j=0\n",
        "for i in test_set:\n",
        "  if i[-1]==predicted[j]:\n",
        "    true_predicted+=1\n",
        "    j=j+1\n",
        "accuracy=true_predicted/len(test_set)\n",
        "print(accuracy)"
      ],
      "metadata": {
        "colab": {
          "base_uri": "https://localhost:8080/"
        },
        "id": "RaUUN2a5a1-w",
        "outputId": "dc3e904a-67ab-4d56-98f7-e39df42ac767"
      },
      "execution_count": 74,
      "outputs": [
        {
          "output_type": "stream",
          "name": "stdout",
          "text": [
            "0.5375\n"
          ]
        }
      ]
    }
  ],
  "metadata": {
    "colab": {
      "provenance": [],
      "collapsed_sections": [],
      "authorship_tag": "ABX9TyOWGeeT2BpPAYJoGIJ0lffb",
      "include_colab_link": true
    },
    "kernelspec": {
      "display_name": "Python 3",
      "name": "python3"
    },
    "language_info": {
      "name": "python"
    }
  },
  "nbformat": 4,
  "nbformat_minor": 0
}