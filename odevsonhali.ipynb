{
  "cells": [
    {
      "cell_type": "markdown",
      "metadata": {
        "id": "view-in-github",
        "colab_type": "text"
      },
      "source": [
        "<a href=\"https://colab.research.google.com/github/beriaacan/FIZ437E/blob/main/odevsonhali.ipynb\" target=\"_parent\"><img src=\"https://colab.research.google.com/assets/colab-badge.svg\" alt=\"Open In Colab\"/></a>"
      ]
    },
    {
      "cell_type": "code",
      "execution_count": null,
      "metadata": {
        "colab": {
          "base_uri": "https://localhost:8080/"
        },
        "id": "MNaAx9wAb2uV",
        "outputId": "ff34e3f8-1fe1-4b68-b131-e0b7f3392a48"
      },
      "outputs": [
        {
          "output_type": "stream",
          "name": "stdout",
          "text": [
            "Drive already mounted at /content/drive; to attempt to forcibly remount, call drive.mount(\"/content/drive\", force_remount=True).\n"
          ]
        }
      ],
      "source": [
        "# This mounts your Google Drive to the Colab VM.\n",
        "from google.colab import drive\n",
        "drive.mount('/content/drive')"
      ]
    },
    {
      "cell_type": "code",
      "execution_count": null,
      "metadata": {
        "id": "Cpy01ZNrb94b"
      },
      "outputs": [],
      "source": [
        "FOLDERNAME ='hw1/'\n",
        "assert FOLDERNAME is not None, \"[!] Enter the foldername.\"\n",
        "\n",
        "# Now that we've mounted your Drive, this ensures that\n",
        "# the Python interpreter of the Colab VM can load\n",
        "# python files from within it.\n",
        "import sys\n",
        "sys.path.append('/content/drive/My Drive/{}'.format(FOLDERNAME))"
      ]
    },
    {
      "cell_type": "code",
      "execution_count": null,
      "metadata": {
        "id": "O2sF6rT8cVOy"
      },
      "outputs": [],
      "source": [
        "# Importing necessary libraries\n",
        "import cv2\n",
        "import glob\n",
        "from matplotlib import pyplot as plt\n",
        "from PIL import Image\n",
        "import PIL\n",
        "from numpy import asarray\n",
        "import numpy as np"
      ]
    },
    {
      "cell_type": "code",
      "execution_count": null,
      "metadata": {
        "id": "eegRrE_AjTPt"
      },
      "outputs": [],
      "source": [
        "from google.colab.patches import cv2_imshow"
      ]
    },
    {
      "cell_type": "code",
      "execution_count": null,
      "metadata": {
        "id": "hgUoF7nScX9Q"
      },
      "outputs": [],
      "source": [
        "#############################CAT PART##################################################    \n",
        "data=[]\n",
        "for name in glob.glob('drive/MyDrive/hw1/cat/*jpg'):\n",
        "    \n",
        "    img_cat = Image.open(name)\n",
        "    data_cat = np.array(img_cat)\n",
        "    image = cv2.imread(name)\n",
        "    gray = cv2.cvtColor(image, cv2.COLOR_BGR2GRAY)\n",
        "    #cv2_imshow(image)\n",
        "    #cv2_imshow(gray)\n",
        "    data_cat1d=data_cat.flatten()\n",
        "    #artik label atamasi yapiyorum\n",
        "    data_label_cat=np.append(data_cat1d,0)\n",
        "    #print(data_label_cat)\n",
        "    data.append(data_label_cat)\n",
        "\n",
        " "
      ]
    },
    {
      "cell_type": "code",
      "execution_count": null,
      "metadata": {
        "colab": {
          "base_uri": "https://localhost:8080/"
        },
        "id": "cWXWmedTmJAm",
        "outputId": "3109f171-d2ec-4535-ac1e-2c697d4cd8c9"
      },
      "outputs": [
        {
          "output_type": "stream",
          "name": "stdout",
          "text": [
            "270000\n"
          ]
        }
      ],
      "source": [
        "print(data_cat1d.size) #sukurler olsun dustu tek boyuta"
      ]
    },
    {
      "cell_type": "code",
      "source": [
        "#############################RABBIT PART##################################################    \n",
        "for name in glob.glob('drive/MyDrive/hw1/rabbit/*jpg'):\n",
        "    img_rab = Image.open(name)\n",
        "    data_rab = np.array(img_rab)\n",
        "    image = cv2.imread(name)\n",
        "    gray = cv2.cvtColor(image, cv2.COLOR_BGR2GRAY)\n",
        "    #cv2_imshow(image)\n",
        "    #cv2_imshow(gray)\n",
        "    data_rab1d=data_rab.flatten()\n",
        "    #artik label atamasi yapiyorum\n",
        "    data_label_rab=np.append(data_rab1d,1)\n",
        "    #print(data_label_rab)\n",
        "    data.append(data_label_rab)\n",
        "\n",
        "    \n",
        "  "
      ],
      "metadata": {
        "id": "k5obyNc1qdaA"
      },
      "execution_count": null,
      "outputs": []
    },
    {
      "cell_type": "code",
      "source": [
        "\n",
        "data=np.array(data)\n",
        "np.random.shuffle(data)\n",
        "\n",
        "cut_val=int(data.shape[0]*0.9) #9a 1oranında ayirdim\n",
        "#print(cut_val2)\n",
        "train_set=data[0:cut_val,:]#9/10\n",
        "test_set=data[cut_val:1600,:]#1/10\n",
        "print(train_set.shape)\n",
        "print(test_set.shape)"
      ],
      "metadata": {
        "id": "n-WRGJmReTUR",
        "colab": {
          "base_uri": "https://localhost:8080/"
        },
        "outputId": "aaf5e0d1-36db-4894-e8e2-76b8569df944"
      },
      "execution_count": null,
      "outputs": [
        {
          "output_type": "stream",
          "name": "stdout",
          "text": [
            "(1440, 270001)\n",
            "(160, 270001)\n"
          ]
        }
      ]
    },
    {
      "cell_type": "code",
      "source": [
        "\"\"\"my knn algorithms:\n",
        "for each x in testing data do\n",
        "      for each D_i in training data do\n",
        "      calculate distance between X and D_i adn Store in List[x]\n",
        "      end for\n",
        "      sort list[x] and find k smallest distances\n",
        "      determine class of x from k possibilities\n",
        "    end for \"\"\"\n",
        "      "
      ],
      "metadata": {
        "id": "nuHXMw_gqkam",
        "colab": {
          "base_uri": "https://localhost:8080/",
          "height": 53
        },
        "outputId": "79147968-8e0a-43ed-e7be-fa3e9a069092"
      },
      "execution_count": null,
      "outputs": [
        {
          "output_type": "execute_result",
          "data": {
            "text/plain": [
              "'my knn algorithms:\\nfor each x in testing data do\\n      for each D_i in training data do\\n      calculate distance between X and D_i adn Store in List[x]\\n      end for\\n      sort list[x] and find k smallest distances\\n      determine class of x from k possibilities\\n    end for '"
            ],
            "application/vnd.google.colaboratory.intrinsic+json": {
              "type": "string"
            }
          },
          "metadata": {},
          "execution_count": 9
        }
      ]
    },
    {
      "cell_type": "code",
      "source": [
        "#x1 and x2 my vector and which is x1=testing_set and \n",
        "#x2=training_set \n",
        "def EuclideanDistance(x1,x2):\n",
        "  distance=0\n",
        "  for i in range(len(x1)):#i=dimension\n",
        "    distance=distance+(x1[i]-x2[i])**2\n",
        "  return np.sqrt(distance)\n",
        "\n",
        "#or we can use \n",
        "\"\"\"from scipy.spatial import distance\n",
        "   dst = distance.euclidean(x1, x2)\"\"\""
      ],
      "metadata": {
        "id": "dhpcNlZrrO96",
        "colab": {
          "base_uri": "https://localhost:8080/",
          "height": 36
        },
        "outputId": "2bc11a73-bbdf-4371-a448-cdd05cb04741"
      },
      "execution_count": null,
      "outputs": [
        {
          "output_type": "execute_result",
          "data": {
            "text/plain": [
              "'from scipy.spatial import distance\\n   dst = distance.euclidean(x1, x2)'"
            ],
            "application/vnd.google.colaboratory.intrinsic+json": {
              "type": "string"
            }
          },
          "metadata": {},
          "execution_count": 10
        }
      ]
    },
    {
      "cell_type": "code",
      "source": [
        "testdata=100\n",
        "sample=[]\n",
        "distances=np.zeros(len(train_set))\n",
        "for i in range(len(test_set)):\n",
        "  for j in  range(len(train_set)):\n",
        "    distance=EuclideanDistance(train_set[i],test_set[j])\n",
        "    #distances[j]=distance\n",
        "    distances = np.sum(np.abs(train_set - train_set[i,:]), axis = 1)\n",
        "    min_index = np.argmin(distances)\n",
        "    \n",
        "\n"
      ],
      "metadata": {
        "id": "JyxM3hpUuWBk",
        "colab": {
          "base_uri": "https://localhost:8080/",
          "height": 235
        },
        "outputId": "dfab7eb5-2ec8-4e92-f7d9-e2aabdf2fefd"
      },
      "execution_count": null,
      "outputs": [
        {
          "output_type": "error",
          "ename": "IndexError",
          "evalue": "ignored",
          "traceback": [
            "\u001b[0;31m---------------------------------------------------------------------------\u001b[0m",
            "\u001b[0;31mIndexError\u001b[0m                                Traceback (most recent call last)",
            "\u001b[0;32m<ipython-input-11-898d8693174a>\u001b[0m in \u001b[0;36m<module>\u001b[0;34m\u001b[0m\n\u001b[1;32m      4\u001b[0m \u001b[0;32mfor\u001b[0m \u001b[0mi\u001b[0m \u001b[0;32min\u001b[0m \u001b[0mrange\u001b[0m\u001b[0;34m(\u001b[0m\u001b[0mlen\u001b[0m\u001b[0;34m(\u001b[0m\u001b[0mtest_set\u001b[0m\u001b[0;34m)\u001b[0m\u001b[0;34m)\u001b[0m\u001b[0;34m:\u001b[0m\u001b[0;34m\u001b[0m\u001b[0;34m\u001b[0m\u001b[0m\n\u001b[1;32m      5\u001b[0m   \u001b[0;32mfor\u001b[0m \u001b[0mj\u001b[0m \u001b[0;32min\u001b[0m  \u001b[0mrange\u001b[0m\u001b[0;34m(\u001b[0m\u001b[0mlen\u001b[0m\u001b[0;34m(\u001b[0m\u001b[0mtrain_set\u001b[0m\u001b[0;34m)\u001b[0m\u001b[0;34m)\u001b[0m\u001b[0;34m:\u001b[0m\u001b[0;34m\u001b[0m\u001b[0;34m\u001b[0m\u001b[0m\n\u001b[0;32m----> 6\u001b[0;31m     \u001b[0mdistance\u001b[0m\u001b[0;34m=\u001b[0m\u001b[0mEuclideanDistance\u001b[0m\u001b[0;34m(\u001b[0m\u001b[0mtrain_set\u001b[0m\u001b[0;34m[\u001b[0m\u001b[0mi\u001b[0m\u001b[0;34m]\u001b[0m\u001b[0;34m,\u001b[0m\u001b[0mtest_set\u001b[0m\u001b[0;34m[\u001b[0m\u001b[0mj\u001b[0m\u001b[0;34m]\u001b[0m\u001b[0;34m)\u001b[0m\u001b[0;34m\u001b[0m\u001b[0;34m\u001b[0m\u001b[0m\n\u001b[0m\u001b[1;32m      7\u001b[0m     \u001b[0;31m#distances[j]=distance\u001b[0m\u001b[0;34m\u001b[0m\u001b[0;34m\u001b[0m\u001b[0;34m\u001b[0m\u001b[0m\n\u001b[1;32m      8\u001b[0m     \u001b[0mmin_index\u001b[0m \u001b[0;34m=\u001b[0m \u001b[0mnp\u001b[0m\u001b[0;34m.\u001b[0m\u001b[0margmin\u001b[0m\u001b[0;34m(\u001b[0m\u001b[0mdistances\u001b[0m\u001b[0;34m)\u001b[0m\u001b[0;34m\u001b[0m\u001b[0;34m\u001b[0m\u001b[0m\n",
            "\u001b[0;31mIndexError\u001b[0m: index 160 is out of bounds for axis 0 with size 160"
          ]
        }
      ]
    },
    {
      "cell_type": "code",
      "source": [
        "#k=[3,5,7,9,11]\n",
        "num_test = distances.shape[0]\n",
        "k = np.zeros(num_test)\n",
        "for i in range(num_test):\n",
        "    closest = []\n",
        "    closest = [np.argsort(distances[i])][0:k]\n",
        "    k[i] = np.bincount(closest).argmax()"
      ],
      "metadata": {
        "id": "43I5RDCRwH4p"
      },
      "execution_count": null,
      "outputs": []
    },
    {
      "cell_type": "code",
      "source": [
        "count = 0\n",
        "for i in range(len(k)):\n",
        "    if k[i] == test[i]:\n",
        "        count +=1\n",
        "        print(\"Accuracy =\", (count/len(k))*100, \"%\") "
      ],
      "metadata": {
        "id": "zqtBjCE-wJ-C"
      },
      "execution_count": null,
      "outputs": []
    }
  ],
  "metadata": {
    "colab": {
      "provenance": [],
      "collapsed_sections": [],
      "authorship_tag": "ABX9TyOy1QVfrHvsrQT+MwEpt5s8",
      "include_colab_link": true
    },
    "kernelspec": {
      "display_name": "Python 3",
      "name": "python3"
    },
    "language_info": {
      "name": "python"
    }
  },
  "nbformat": 4,
  "nbformat_minor": 0
}