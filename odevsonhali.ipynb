{
  "cells": [
    {
      "cell_type": "markdown",
      "metadata": {
        "id": "view-in-github",
        "colab_type": "text"
      },
      "source": [
        "<a href=\"https://colab.research.google.com/github/beriaacan/FIZ437E/blob/main/odevsonhali.ipynb\" target=\"_parent\"><img src=\"https://colab.research.google.com/assets/colab-badge.svg\" alt=\"Open In Colab\"/></a>"
      ]
    },
    {
      "cell_type": "code",
      "execution_count": null,
      "metadata": {
        "colab": {
          "base_uri": "https://localhost:8080/"
        },
        "id": "MNaAx9wAb2uV",
        "outputId": "49a09166-a840-4c64-e50f-b56d33ca2597"
      },
      "outputs": [
        {
          "output_type": "stream",
          "name": "stdout",
          "text": [
            "Mounted at /content/drive\n"
          ]
        }
      ],
      "source": [
        "# This mounts your Google Drive to the Colab VM.\n",
        "from google.colab import drive\n",
        "drive.mount('/content/drive')"
      ]
    },
    {
      "cell_type": "code",
      "execution_count": null,
      "metadata": {
        "id": "Cpy01ZNrb94b"
      },
      "outputs": [],
      "source": [
        "FOLDERNAME ='hw1/'\n",
        "assert FOLDERNAME is not None, \"[!] Enter the foldername.\"\n",
        "\n",
        "# Now that we've mounted your Drive, this ensures that\n",
        "# the Python interpreter of the Colab VM can load\n",
        "# python files from within it.\n",
        "import sys\n",
        "sys.path.append('/content/drive/My Drive/{}'.format(FOLDERNAME))"
      ]
    },
    {
      "cell_type": "code",
      "execution_count": null,
      "metadata": {
        "id": "O2sF6rT8cVOy"
      },
      "outputs": [],
      "source": [
        "# Importing necessary libraries\n",
        "import cv2\n",
        "import glob\n",
        "from matplotlib import pyplot as plt\n",
        "from PIL import Image\n",
        "import PIL\n",
        "from numpy import asarray\n",
        "import numpy as np"
      ]
    },
    {
      "cell_type": "code",
      "execution_count": null,
      "metadata": {
        "id": "eegRrE_AjTPt"
      },
      "outputs": [],
      "source": [
        "from google.colab.patches import cv2_imshow"
      ]
    },
    {
      "cell_type": "code",
      "execution_count": null,
      "metadata": {
        "id": "hgUoF7nScX9Q"
      },
      "outputs": [],
      "source": [
        "#############################CAT PART##################################################    \n",
        "data=[]\n",
        "for name in glob.glob('drive/MyDrive/hw1/cat/*jpg'):\n",
        "    \n",
        "    img_cat = Image.open(name)\n",
        "    data_cat = np.array(img_cat)\n",
        "    image = cv2.imread(name)\n",
        "    gray = cv2.cvtColor(image, cv2.COLOR_BGR2GRAY)\n",
        "    #cv2_imshow(image)\n",
        "    #cv2_imshow(gray)\n",
        "    data_cat1d=data_cat.flatten()\n",
        "    #artik label atamasi yapiyorum\n",
        "    data_label_cat=np.append(data_cat1d,0)\n",
        "    #print(data_label_cat)\n",
        "    data.append(data_label_cat)\n",
        "\n",
        " "
      ]
    },
    {
      "cell_type": "code",
      "execution_count": null,
      "metadata": {
        "colab": {
          "base_uri": "https://localhost:8080/"
        },
        "id": "cWXWmedTmJAm",
        "outputId": "4e7f9b48-2f63-4f35-bdf4-8d55b33a7a9e"
      },
      "outputs": [
        {
          "output_type": "stream",
          "name": "stdout",
          "text": [
            "270000\n"
          ]
        }
      ],
      "source": [
        "print(data_cat1d.size) #sukurler olsun dustu tek boyuta"
      ]
    },
    {
      "cell_type": "code",
      "source": [
        "#############################RABBIT PART##################################################    \n",
        "for name in glob.glob('drive/MyDrive/hw1/rabbit/*jpg'):\n",
        "    img_rab = Image.open(name)\n",
        "    data_rab = np.array(img_rab)\n",
        "    image = cv2.imread(name)\n",
        "    gray = cv2.cvtColor(image, cv2.COLOR_BGR2GRAY)\n",
        "    #cv2_imshow(image)\n",
        "    #cv2_imshow(gray)\n",
        "    data_rab1d=data_rab.flatten()\n",
        "    #artik label atamasi yapiyorum\n",
        "    data_label_rab=np.append(data_rab1d,1)\n",
        "    #print(data_label_rab)\n",
        "    data.append(data_label_rab)\n",
        "\n",
        "    \n",
        "  "
      ],
      "metadata": {
        "id": "k5obyNc1qdaA"
      },
      "execution_count": null,
      "outputs": []
    },
    {
      "cell_type": "code",
      "source": [
        "\n",
        "data=np.array(data)\n",
        "np.random.shuffle(data)\n",
        "\n",
        "cut_val=int(data.shape[0]*0.9) #9a 1oranında ayirdim\n",
        "#print(cut_val2)\n",
        "train_set=data[0:cut_val,:]#9/10\n",
        "test_set=data[cut_val:1600,:]#1/10\n",
        "print(train_set.shape)\n",
        "print(test_set.shape)"
      ],
      "metadata": {
        "id": "n-WRGJmReTUR",
        "colab": {
          "base_uri": "https://localhost:8080/"
        },
        "outputId": "758d0a77-7e74-4f5a-ac12-c357089c6017"
      },
      "execution_count": null,
      "outputs": [
        {
          "output_type": "stream",
          "name": "stdout",
          "text": [
            "(1440, 270001)\n",
            "(160, 270001)\n"
          ]
        }
      ]
    },
    {
      "cell_type": "code",
      "source": [
        "\"\"\"my knn algorithms:\n",
        "for each x in testing data do\n",
        "      for each D_i in training data do\n",
        "      calculate distance between X and D_i adn Store in List[x]\n",
        "      end for\n",
        "      sort list[x] and find k smallest distances\n",
        "      determine class of x from k possibilities\n",
        "    end for \"\"\"\n",
        "      "
      ],
      "metadata": {
        "id": "nuHXMw_gqkam"
      },
      "execution_count": null,
      "outputs": []
    },
    {
      "cell_type": "code",
      "source": [
        "#x1 and x2 my vector and N is a dimension which is x1=testing_set and \n",
        "#x2=training_set and N=270001\n",
        "def EuclideanDistance(x1,x2,N):\n",
        "  distance=0\n",
        "  for i in range(N):#i=dimension\n",
        "    distance=distance+(x1[i]-x2[i])**2\n",
        "  return np.sqrt(distance)\n",
        "\n",
        "#or we can use \n",
        "\"\"\"from scipy.spatial import distance\n",
        "   dst = distance.euclidean(x1, x2)\"\"\""
      ],
      "metadata": {
        "id": "dhpcNlZrrO96"
      },
      "execution_count": null,
      "outputs": []
    },
    {
      "cell_type": "code",
      "source": [
        "k=3\n",
        "d=np.sqrt(np.sum(np.square(train_set[:,:]-test_set[n-1,:] )))\n",
        "label=train_set[:,-1]\n",
        "sample=[]\n",
        "for i in range(len(test_set)):\n",
        "  for j in range(len(train_set)):\n",
        "    sample[i,j]=\n",
        "\n",
        "    "
      ],
      "metadata": {
        "id": "pqQkmTtdfAAd"
      },
      "execution_count": null,
      "outputs": []
    }
  ],
  "metadata": {
    "colab": {
      "provenance": [],
      "collapsed_sections": [],
      "authorship_tag": "ABX9TyMhYdZGqbLIOvOHRFAV4YVc",
      "include_colab_link": true
    },
    "kernelspec": {
      "display_name": "Python 3",
      "name": "python3"
    },
    "language_info": {
      "name": "python"
    }
  },
  "nbformat": 4,
  "nbformat_minor": 0
}